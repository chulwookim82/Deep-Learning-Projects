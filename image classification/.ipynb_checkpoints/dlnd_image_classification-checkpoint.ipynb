{
 "cells": [
  {
   "cell_type": "markdown",
   "metadata": {
    "collapsed": true,
    "deletable": true,
    "editable": true
   },
   "source": [
    "# Image Classification\n",
    "In this project, it classifies images from the [CIFAR-10 dataset](https://www.cs.toronto.edu/~kriz/cifar.html).  The dataset consists of airplanes, dogs, cats, and other objects. It preprocesses the images, then train a convolutional neural network on all the samples. The images need to be normalized and the labels need to be one-hot encoded. It gets to apply and build a convolutional, max pooling, dropout, and fully connected layers. At the end, it gets to see your neural network's predictions on the sample images.\n",
    "## Get the Data\n",
    "Download the [CIFAR-10 dataset for python](https://www.cs.toronto.edu/~kriz/cifar-10-python.tar.gz)."
   ]
  },
  {
   "cell_type": "code",
   "execution_count": 16,
   "metadata": {
    "collapsed": false,
    "deletable": true,
    "editable": true
   },
   "outputs": [
    {
     "name": "stdout",
     "output_type": "stream",
     "text": [
      "All files found!\n"
     ]
    }
   ],
   "source": [
    "from urllib.request import urlretrieve\n",
    "from os.path import isfile, isdir\n",
    "from tqdm import tqdm\n",
    "import tarfile\n",
    "\n",
    "cifar10_dataset_folder_path = 'cifar-10-batches-py'\n",
    "\n",
    "class DLProgress(tqdm):\n",
    "    last_block = 0\n",
    "\n",
    "    def hook(self, block_num=1, block_size=1, total_size=None):\n",
    "        self.total = total_size\n",
    "        self.update((block_num - self.last_block) * block_size)\n",
    "        self.last_block = block_num\n",
    "\n",
    "if not isfile('cifar-10-python.tar.gz'):\n",
    "    with DLProgress(unit='B', unit_scale=True, miniters=1, desc='CIFAR-10 Dataset') as pbar:\n",
    "        urlretrieve(\n",
    "            'https://www.cs.toronto.edu/~kriz/cifar-10-python.tar.gz',\n",
    "            'cifar-10-python.tar.gz',\n",
    "            pbar.hook)\n",
    "\n",
    "if not isdir(cifar10_dataset_folder_path):\n",
    "    with tarfile.open('cifar-10-python.tar.gz') as tar:\n",
    "        tar.extractall()\n",
    "        tar.close()"
   ]
  },
  {
   "cell_type": "markdown",
   "metadata": {
    "deletable": true,
    "editable": true
   },
   "source": [
    "## Explore the Data\n",
    "The dataset is broken into batches to prevent your machine from running out of memory. The CIFAR-10 dataset consists of 5 batches, named `data_batch_1`, `data_batch_2`, etc.. Each batch contains the labels and images that are one of the following:\n",
    "* airplane\n",
    "* automobile\n",
    "* bird\n",
    "* cat\n",
    "* deer\n",
    "* dog\n",
    "* frog\n",
    "* horse\n",
    "* ship\n",
    "* truck\n",
    "\n",
    "Understanding a dataset is part of making predictions on the data. Play around with the code cell below by changing the `batch_id` and `sample_id`. The `batch_id` is the id for a batch (1-5). The `sample_id` is the id for a image and label pair in the batch."
   ]
  },
  {
   "cell_type": "code",
   "execution_count": 17,
   "metadata": {
    "collapsed": false,
    "deletable": true,
    "editable": true
   },
   "outputs": [
    {
     "name": "stdout",
     "output_type": "stream",
     "text": [
      "\n",
      "Stats of batch 1:\n",
      "Samples: 10000\n",
      "Label Counts: {0: 1005, 1: 974, 2: 1032, 3: 1016, 4: 999, 5: 937, 6: 1030, 7: 1001, 8: 1025, 9: 981}\n",
      "First 20 Labels: [6, 9, 9, 4, 1, 1, 2, 7, 8, 3, 4, 7, 7, 2, 9, 9, 9, 3, 2, 6]\n",
      "\n",
      "Example of Image 5:\n",
      "Image - Min Value: 0 Max Value: 252\n",
      "Image - Shape: (32, 32, 3)\n",
      "Label - Label Id: 1 Name: automobile\n"
     ]
    },
    {
     "data": {
      "image/png": "[encoded data removed]",
      "text/plain": [
       "<matplotlib.figure.Figure at 0x7fadf89905f8>"
      ]
     },
     "metadata": {
      "image/png": {
       "height": 250,
       "width": 253
      }
     },
     "output_type": "display_data"
    }
   ],
   "source": [
    "%matplotlib inline\n",
    "%config InlineBackend.figure_format = 'retina'\n",
    "\n",
    "import helper\n",
    "import numpy as np\n",
    "\n",
    "# Explore the dataset\n",
    "batch_id = 1\n",
    "sample_id = 5\n",
    "helper.display_stats(cifar10_dataset_folder_path, batch_id, sample_id)"
   ]
  },
  {
   "cell_type": "markdown",
   "metadata": {
    "deletable": true,
    "editable": true
   },
   "source": [
    "## Implement Preprocess Functions\n",
    "### Normalize\n",
    "In the cell below, implement the `normalize` function to take in image data, `x`, and return it as a normalized Numpy array. The values should be in the range of 0 to 1, inclusive.  The return object should be the same shape as `x`."
   ]
  },
  {
   "cell_type": "code",
   "execution_count": 1,
   "metadata": {
    "collapsed": false,
    "deletable": true,
    "editable": true
   },
   "outputs": [],
   "source": [
    "def normalize(x):\n",
    "    return x / 255"
   ]
  },
  {
   "cell_type": "markdown",
   "metadata": {
    "deletable": true,
    "editable": true
   },
   "source": [
    "### One-hot encode\n",
    "The input, `x`, are a list of labels. Implement the function to return the list of labels as One-Hot encoded Numpy array. The possible values for labels are 0 to 9. The one-hot encoding function should return the same encoding for each value between each call to `one_hot_encode`. "
   ]
  },
  {
   "cell_type": "code",
   "execution_count": 3,
   "metadata": {
    "collapsed": false,
    "deletable": true,
    "editable": true
   },
   "outputs": [],
   "source": [
    "from sklearn import preprocessing\n",
    "\n",
    "lb = np.zeros\n",
    "\n",
    "def one_hot_encode(x):\n",
    "    \"\"\"\n",
    "    One hot encode a list of sample labels. Return a one-hot encoded vector for each label.\n",
    "    : x: List of sample Labels\n",
    "    : return: Numpy array of one-hot encoded labels\n",
    "    \"\"\"        \n",
    "    lb = preprocessing.LabelBinarizer()\n",
    "    lb.fit(np.arange(0, 10))\n",
    "    \n",
    "    return lb.transform(x)"
   ]
  },
  {
   "cell_type": "markdown",
   "metadata": {
    "deletable": true,
    "editable": true
   },
   "source": [
    "## Preprocess all the data and save it\n",
    "Running the code cell below will preprocess all the CIFAR-10 data and save it to file. The code below also uses 10% of the training data for validation."
   ]
  },
  {
   "cell_type": "code",
   "execution_count": 20,
   "metadata": {
    "collapsed": false,
    "deletable": true,
    "editable": true
   },
   "outputs": [],
   "source": [
    "# Preprocess Training, Validation, and Testing Data\n",
    "helper.preprocess_and_save_data(cifar10_dataset_folder_path, normalize, one_hot_encode)"
   ]
  },
  {
   "cell_type": "markdown",
   "metadata": {
    "deletable": true,
    "editable": true
   },
   "source": [
    "# Check Point\n",
    "The preprocessed data has been saved to disk."
   ]
  },
  {
   "cell_type": "code",
   "execution_count": 21,
   "metadata": {
    "collapsed": true,
    "deletable": true,
    "editable": true
   },
   "outputs": [],
   "source": [
    "import pickle\n",
    "import helper\n",
    "\n",
    "# Load the Preprocessed Validation data\n",
    "valid_features, valid_labels = pickle.load(open('preprocess_validation.p', mode='rb'))"
   ]
  },
  {
   "cell_type": "markdown",
   "metadata": {
    "deletable": true,
    "editable": true
   },
   "source": [
    "## Build the network\n",
    "To test a code more thoroughly, it puts each layer in a function.\n",
    "\n",
    "### Input\n",
    "The neural network needs to read the image data, one-hot encoded labels, and dropout keep probability. It needs to implement the following functions\n",
    "* `neural_net_image_input` \n",
    " * The shape using `image_shape` with batch size set to `None`.\n",
    " * The TensorFlow placeholder \"x\" using the TensorFlow `name` parameter.\n",
    "* `neural_net_label_input`\n",
    " * The shape using `n_classes` with batch size set to `None`.\n",
    " * The TensorFlow placeholder \"y\" using the TensorFlow `name` parameter.\n",
    "* `neural_net_keep_prob_input`\n",
    " * The TensorFlow placeholder \"keep_prob\" using the TensorFlow `name` parameter.\n",
    "\n",
    "The reason why it names is used at the end of the project to load your saved model."
   ]
  },
  {
   "cell_type": "code",
   "execution_count": 4,
   "metadata": {
    "collapsed": false,
    "deletable": true,
    "editable": true
   },
   "outputs": [],
   "source": [
    "import tensorflow as tf\n",
    "\n",
    "def neural_net_image_input(image_shape):\n",
    "    \"\"\"\n",
    "    Return a Tensor for a batch of image input\n",
    "    : image_shape: Shape of the images\n",
    "    : return: Tensor for image input.\n",
    "    \"\"\"    \n",
    "    x = tf.placeholder(tf.float32, shape=[None, image_shape[0], image_shape[1], image_shape[2]], name=\"x\")\n",
    "    return x\n",
    "\n",
    "\n",
    "def neural_net_label_input(n_classes):\n",
    "    \"\"\"\n",
    "    Return a Tensor for a batch of label input\n",
    "    : n_classes: Number of classes\n",
    "    : return: Tensor for label input.\n",
    "    \"\"\"\n",
    "    y = tf.placeholder(tf.float32, shape=[None, n_classes], name=\"y\")\n",
    "    return y\n",
    "\n",
    "\n",
    "def neural_net_keep_prob_input():\n",
    "    \"\"\"\n",
    "    Return a Tensor for keep probability\n",
    "    : return: Tensor for keep probability.\n",
    "    \"\"\"\n",
    "    keep_prob = tf.placeholder(tf.float32, name=\"keep_prob\")\n",
    "    return keep_prob\n",
    "\n",
    "tf.reset_default_graph()"
   ]
  },
  {
   "cell_type": "markdown",
   "metadata": {
    "deletable": true,
    "editable": true
   },
   "source": [
    "### Convolution and Max Pooling Layer\n",
    "Convolution layers have a lot of success with images. In the function `conv2d_maxpool`, it applies convolution then max pooling."
   ]
  },
  {
   "cell_type": "code",
   "execution_count": 5,
   "metadata": {
    "collapsed": false,
    "deletable": true,
    "editable": true
   },
   "outputs": [],
   "source": [
    "def conv2d_maxpool(x_tensor, conv_num_outputs, conv_ksize, conv_strides, pool_ksize, pool_strides):\n",
    "    \"\"\"\n",
    "    Apply convolution then max pooling to x_tensor\n",
    "    :param x_tensor: TensorFlow Tensor\n",
    "    :param conv_num_outputs: Number of outputs for the convolutional layer\n",
    "    :param conv_ksize: kernal size 2-D Tuple for the convolutional layer\n",
    "    :param conv_strides: Stride 2-D Tuple for convolution\n",
    "    :param pool_ksize: kernal size 2-D Tuple for pool\n",
    "    :param pool_strides: Stride 2-D Tuple for pool\n",
    "    : return: A tensor that represents convolution and max pooling of x_tensor\n",
    "    \"\"\"\n",
    "    \n",
    "    weight = tf.Variable(tf.truncated_normal(\n",
    "        [conv_ksize[0], \n",
    "         conv_ksize[1], \n",
    "         x_tensor.shape.as_list()[3], \n",
    "         conv_num_outputs], \n",
    "        dtype=tf.float32, \n",
    "        mean=0.0, \n",
    "        stddev=0.1))\n",
    "    bias = tf.Variable(tf.zeros(conv_num_outputs))\n",
    "    x_tensor = tf.nn.conv2d(\n",
    "        x_tensor, \n",
    "        weight,\n",
    "        strides=[1, conv_strides[0], conv_strides[1], 1], \n",
    "        padding='SAME'\n",
    "    )\n",
    "        \n",
    "    x_tensor = tf.nn.bias_add(x_tensor, bias)\n",
    "    x_tensor = tf.nn.relu(x_tensor) \n",
    "    x_tensor = tf.nn.max_pool(\n",
    "        x_tensor, \n",
    "        ksize=[1, pool_ksize[0], pool_ksize[1], 1], \n",
    "        strides=[1, pool_strides[0], pool_strides[1], 1], \n",
    "        padding='SAME'\n",
    "    )\n",
    "   \n",
    "    return x_tensor"
   ]
  },
  {
   "cell_type": "markdown",
   "metadata": {
    "deletable": true,
    "editable": true
   },
   "source": [
    "### Flatten Layer\n",
    "The `flatten` function changes the dimension of `x_tensor` from a 4-D tensor to a 2-D tensor. The output should be the shape (*Batch Size*, *Flattened Image Size*). "
   ]
  },
  {
   "cell_type": "code",
   "execution_count": 6,
   "metadata": {
    "collapsed": false,
    "deletable": true,
    "editable": true
   },
   "outputs": [],
   "source": [
    "def flatten(x_tensor):\n",
    "    \"\"\"\n",
    "    Flatten x_tensor to (Batch Size, Flattened Image Size)\n",
    "    : x_tensor: A tensor of size (Batch Size, ...), where ... are the image dimensions.\n",
    "    : return: A tensor of size (Batch Size, Flattened Image Size).\n",
    "    \"\"\"    \n",
    "    x_tensor_list = x_tensor.get_shape().as_list()\n",
    "    return tf.reshape(x_tensor, [-1, np.prod(x_tensor_list[1:])])"
   ]
  },
  {
   "cell_type": "markdown",
   "metadata": {
    "deletable": true,
    "editable": true
   },
   "source": [
    "### Fully-Connected Layer\n",
    "The `fully_conn` function applies a fully connected layer to `x_tensor` with the shape (*Batch Size*, *num_outputs*)."
   ]
  },
  {
   "cell_type": "code",
   "execution_count": 7,
   "metadata": {
    "collapsed": false,
    "deletable": true,
    "editable": true
   },
   "outputs": [],
   "source": [
    "def fully_conn(x_tensor, num_outputs):\n",
    "    \"\"\"\n",
    "    Apply a fully connected layer to x_tensor using weight and bias\n",
    "    : x_tensor: A 2-D tensor where the first dimension is batch size.\n",
    "    : num_outputs: The number of output that the new tensor should be.\n",
    "    : return: A 2-D tensor where the second dimension is num_outputs.\n",
    "    \"\"\"    \n",
    "    datasize = x_tensor.get_shape().as_list()[1]\n",
    "    weight = tf.Variable(tf.truncated_normal([datasize, num_outputs], mean=0.0, stddev=0.1))\n",
    "    bias = tf.Variable(tf.zeros(num_outputs))\n",
    "        \n",
    "    fc = tf.add(tf.matmul(x_tensor, weight), bias)\n",
    "    fc = tf.nn.relu(fc)\n",
    "    return fc    "
   ]
  },
  {
   "cell_type": "markdown",
   "metadata": {
    "deletable": true,
    "editable": true
   },
   "source": [
    "### Output Layer\n",
    "The `output` function applies a fully connected layer to `x_tensor` with the shape (*Batch Size*, *num_outputs*)."
   ]
  },
  {
   "cell_type": "code",
   "execution_count": 8,
   "metadata": {
    "collapsed": false,
    "deletable": true,
    "editable": true
   },
   "outputs": [],
   "source": [
    "def output(x_tensor, num_outputs):\n",
    "    \"\"\"\n",
    "    Apply a output layer to x_tensor using weight and bias\n",
    "    : x_tensor: A 2-D tensor where the first dimension is batch size.\n",
    "    : num_outputs: The number of output that the new tensor should be.\n",
    "    : return: A 2-D tensor where the second dimension is num_outputs.\n",
    "    \"\"\"\n",
    "    datasize = x_tensor.get_shape().as_list()[1]\n",
    "    weight = tf.Variable(tf.truncated_normal((datasize, num_outputs), mean=0.0, stddev=0.1))\n",
    "    bias = tf.Variable(tf.zeros(num_outputs))\n",
    "    op = tf.add(tf.matmul(x_tensor, weight), bias)    \n",
    "    return op"
   ]
  },
  {
   "cell_type": "markdown",
   "metadata": {
    "deletable": true,
    "editable": true
   },
   "source": [
    "### Create Convolutional Model\n",
    "The function `conv_net` creates a convolutional neural network model. The function takes in a batch of images, `x`, and outputs logits."
   ]
  },
  {
   "cell_type": "code",
   "execution_count": 27,
   "metadata": {
    "collapsed": false,
    "deletable": true,
    "editable": true
   },
   "outputs": [
    {
     "name": "stdout",
     "output_type": "stream",
     "text": [
      "Neural Network Built!\n"
     ]
    }
   ],
   "source": [
    "def conv_net(x, keep_prob):\n",
    "    \"\"\"\n",
    "    Create a convolutional neural network model\n",
    "    : x: Placeholder tensor that holds image data.\n",
    "    : keep_prob: Placeholder tensor that hold dropout keep probability.\n",
    "    : return: Tensor that represents logits\n",
    "    \"\"\"\n",
    "    x_tensor = x\n",
    "    conv_num_outputs = 128\n",
    "    conv_ksize = (3,3)\n",
    "    conv_strides = (1,1)\n",
    "    pool_ksize = (4,4)\n",
    "    pool_strides = (2,2)\n",
    "    num_outputs = 10\n",
    "\n",
    "    conv = conv2d_maxpool(x_tensor, conv_num_outputs, conv_ksize, conv_strides, pool_ksize, pool_strides)\n",
    "    conv = conv2d_maxpool(conv, conv_num_outputs, conv_ksize, conv_strides, pool_ksize, pool_strides)\n",
    "    conv = conv2d_maxpool(conv, conv_num_outputs, conv_ksize, conv_strides, pool_ksize, pool_strides)\n",
    "    conv = tf.nn.dropout(conv, 0.5)\n",
    "    \n",
    "    flat = flatten(conv)\n",
    "    \n",
    "    fully = fully_conn(flat, num_outputs)\n",
    "    fully = fully_conn(fully, num_outputs)\n",
    "    \n",
    "    out_data = output(fully, num_outputs)        \n",
    "    \n",
    "    return out_data\n",
    "\n",
    "##############################\n",
    "## Build the Neural Network ##\n",
    "##############################\n",
    "\n",
    "# Remove previous weights, bias, inputs, etc..\n",
    "tf.reset_default_graph()\n",
    "\n",
    "# Inputs\n",
    "x = neural_net_image_input((32, 32, 3))\n",
    "y = neural_net_label_input(10)\n",
    "keep_prob = neural_net_keep_prob_input()\n",
    "\n",
    "# Model\n",
    "logits = conv_net(x, keep_prob)\n",
    "\n",
    "# Name logits Tensor, so that is can be loaded from disk after training\n",
    "logits = tf.identity(logits, name='logits')\n",
    "\n",
    "# Loss and Optimizer\n",
    "cost = tf.reduce_mean(tf.nn.softmax_cross_entropy_with_logits(logits=logits, labels=y))\n",
    "optimizer = tf.train.AdamOptimizer().minimize(cost)\n",
    "\n",
    "# Accuracy\n",
    "correct_pred = tf.equal(tf.argmax(logits, 1), tf.argmax(y, 1))\n",
    "accuracy = tf.reduce_mean(tf.cast(correct_pred, tf.float32), name='accuracy')"
   ]
  },
  {
   "cell_type": "markdown",
   "metadata": {
    "deletable": true,
    "editable": true
   },
   "source": [
    "## Train the Neural Network\n",
    "### Single Optimization\n",
    "The function `train_neural_network` does a single optimization. The optimization should use `optimizer` to optimize in `session` with a `feed_dict` of the following:\n",
    "* `x` for image input\n",
    "* `y` for labels\n",
    "* `keep_prob` for keep probability for dropout"
   ]
  },
  {
   "cell_type": "code",
   "execution_count": 9,
   "metadata": {
    "collapsed": false,
    "deletable": true,
    "editable": true
   },
   "outputs": [],
   "source": [
    "def train_neural_network(session, optimizer, keep_probability, feature_batch, label_batch):\n",
    "    \"\"\"\n",
    "    Optimize the session on a batch of images and labels\n",
    "    : session: Current TensorFlow session\n",
    "    : optimizer: TensorFlow optimizer function\n",
    "    : keep_probability: keep probability\n",
    "    : feature_batch: Batch of Numpy image data\n",
    "    : label_batch: Batch of Numpy label data\n",
    "    \"\"\"    \n",
    "    session.run(optimizer, feed_dict={x: feature_batch, y: label_batch, keep_prob: keep_probability})"
   ]
  },
  {
   "cell_type": "markdown",
   "metadata": {
    "deletable": true,
    "editable": true
   },
   "source": [
    "### Show Stats\n",
    "The function `print_stats` prints loss and validation accuracy, using the global variables `valid_features` and `valid_labels` to calculate validation accuracy. "
   ]
  },
  {
   "cell_type": "code",
   "execution_count": 29,
   "metadata": {
    "collapsed": false,
    "deletable": true,
    "editable": true
   },
   "outputs": [],
   "source": [
    "def print_stats(session, feature_batch, label_batch, cost, accuracy):\n",
    "    \"\"\"\n",
    "    Print information about loss and validation accuracy\n",
    "    : session: Current TensorFlow session\n",
    "    : feature_batch: Batch of Numpy image data\n",
    "    : label_batch: Batch of Numpy label data\n",
    "    : cost: TensorFlow cost function\n",
    "    : accuracy: TensorFlow accuracy function\n",
    "    \"\"\"\n",
    "    loss = session.run(cost, feed_dict={x: feature_batch, y: label_batch, keep_prob: 1.0})\n",
    "    accuracy = session.run(accuracy, feed_dict={x: valid_features, y: valid_labels, keep_prob: 1.0})\n",
    "    print(\"Loss: {}\".format(loss))\n",
    "    print(\"Accuracy: {}\".format(accuracy))"
   ]
  },
  {
   "cell_type": "markdown",
   "metadata": {
    "deletable": true,
    "editable": true
   },
   "source": [
    "### Hyperparameters\n",
    "It needs to tune the parameters such as epochs, batch size and probability."
   ]
  },
  {
   "cell_type": "code",
   "execution_count": 10,
   "metadata": {
    "collapsed": true,
    "deletable": true,
    "editable": true
   },
   "outputs": [],
   "source": [
    "epochs = 30\n",
    "batch_size = 256\n",
    "keep_probability = 0.9"
   ]
  },
  {
   "cell_type": "markdown",
   "metadata": {
    "deletable": true,
    "editable": true
   },
   "source": [
    "### Train on a Single CIFAR-10 Batch\n",
    "Instead of training the neural network on all the CIFAR-10 batches of data, it should use a single batch. This should save time while you iterate on the model to get a better accuracy. Once the final validation accuracy is 50% or greater, it is good time to run the model on all the data in the next section."
   ]
  },
  {
   "cell_type": "code",
   "execution_count": 32,
   "metadata": {
    "collapsed": false,
    "deletable": true,
    "editable": true
   },
   "outputs": [
    {
     "name": "stdout",
     "output_type": "stream",
     "text": [
      "Checking the Training on a Single Batch...\n",
      "Epoch  1, CIFAR-10 Batch 1:  Loss: 2.2893524169921875\n",
      "Accuracy: 0.0997999906539917\n",
      "Epoch  2, CIFAR-10 Batch 1:  Loss: 2.254088878631592\n",
      "Accuracy: 0.1599999964237213\n",
      "Epoch  3, CIFAR-10 Batch 1:  Loss: 2.127584934234619\n",
      "Accuracy: 0.22059999406337738\n",
      "Epoch  4, CIFAR-10 Batch 1:  Loss: 1.8518706560134888\n",
      "Accuracy: 0.2343999743461609\n",
      "Epoch  5, CIFAR-10 Batch 1:  Loss: 1.8600269556045532\n",
      "Accuracy: 0.3012000024318695\n",
      "Epoch  6, CIFAR-10 Batch 1:  Loss: 1.9553940296173096\n",
      "Accuracy: 0.3421999514102936\n",
      "Epoch  7, CIFAR-10 Batch 1:  Loss: 1.7856810092926025\n",
      "Accuracy: 0.378199964761734\n",
      "Epoch  8, CIFAR-10 Batch 1:  Loss: 1.5966763496398926\n",
      "Accuracy: 0.38519999384880066\n",
      "Epoch  9, CIFAR-10 Batch 1:  Loss: 1.4588996171951294\n",
      "Accuracy: 0.4147999584674835\n",
      "Epoch 10, CIFAR-10 Batch 1:  Loss: 1.3290361166000366\n",
      "Accuracy: 0.45179998874664307\n",
      "Epoch 11, CIFAR-10 Batch 1:  Loss: 1.1075053215026855\n",
      "Accuracy: 0.46859997510910034\n",
      "Epoch 12, CIFAR-10 Batch 1:  Loss: 1.0605324506759644\n",
      "Accuracy: 0.4861999452114105\n",
      "Epoch 13, CIFAR-10 Batch 1:  Loss: 0.9868709444999695\n",
      "Accuracy: 0.4925999343395233\n",
      "Epoch 14, CIFAR-10 Batch 1:  Loss: 0.893330454826355\n",
      "Accuracy: 0.5247999429702759\n",
      "Epoch 15, CIFAR-10 Batch 1:  Loss: 0.9144414663314819\n",
      "Accuracy: 0.5279999375343323\n",
      "Epoch 16, CIFAR-10 Batch 1:  Loss: 0.7979644536972046\n",
      "Accuracy: 0.5353999137878418\n",
      "Epoch 17, CIFAR-10 Batch 1:  Loss: 0.6930172443389893\n",
      "Accuracy: 0.5439999103546143\n",
      "Epoch 18, CIFAR-10 Batch 1:  Loss: 0.6334298849105835\n",
      "Accuracy: 0.5491999387741089\n",
      "Epoch 19, CIFAR-10 Batch 1:  Loss: 0.6135988831520081\n",
      "Accuracy: 0.5577999353408813\n",
      "Epoch 20, CIFAR-10 Batch 1:  Loss: 0.5575900077819824\n",
      "Accuracy: 0.5541999340057373\n",
      "Epoch 21, CIFAR-10 Batch 1:  Loss: 0.5061498880386353\n",
      "Accuracy: 0.5795998573303223\n",
      "Epoch 22, CIFAR-10 Batch 1:  Loss: 0.45965006947517395\n",
      "Accuracy: 0.5729999542236328\n",
      "Epoch 23, CIFAR-10 Batch 1:  Loss: 0.4427562952041626\n",
      "Accuracy: 0.5921999216079712\n",
      "Epoch 24, CIFAR-10 Batch 1:  Loss: 0.41783738136291504\n",
      "Accuracy: 0.5865999460220337\n",
      "Epoch 25, CIFAR-10 Batch 1:  Loss: 0.3630911707878113\n",
      "Accuracy: 0.5931999087333679\n",
      "Epoch 26, CIFAR-10 Batch 1:  Loss: 0.32776159048080444\n",
      "Accuracy: 0.5863999128341675\n",
      "Epoch 27, CIFAR-10 Batch 1:  Loss: 0.34555670619010925\n",
      "Accuracy: 0.6029999256134033\n",
      "Epoch 28, CIFAR-10 Batch 1:  Loss: 0.3397168219089508\n",
      "Accuracy: 0.6067999005317688\n",
      "Epoch 29, CIFAR-10 Batch 1:  Loss: 0.3085179924964905\n",
      "Accuracy: 0.602199912071228\n",
      "Epoch 30, CIFAR-10 Batch 1:  Loss: 0.2417546659708023\n",
      "Accuracy: 0.6095999479293823\n"
     ]
    }
   ],
   "source": [
    "print('Checking the Training on a Single Batch...')\n",
    "with tf.Session() as sess:\n",
    "    # Initializing the variables\n",
    "    sess.run(tf.global_variables_initializer())\n",
    "    \n",
    "    # Training cycle\n",
    "    for epoch in range(epochs):\n",
    "        batch_i = 1\n",
    "        for batch_features, batch_labels in helper.load_preprocess_training_batch(batch_i, batch_size):\n",
    "            train_neural_network(sess, optimizer, keep_probability, batch_features, batch_labels)\n",
    "        print('Epoch {:>2}, CIFAR-10 Batch {}:  '.format(epoch + 1, batch_i), end='')\n",
    "        print_stats(sess, batch_features, batch_labels, cost, accuracy)"
   ]
  },
  {
   "cell_type": "markdown",
   "metadata": {
    "deletable": true,
    "editable": true
   },
   "source": [
    "### Fully Train the Model\n",
    "Now that I got a good accuracy with a single CIFAR-10 batch, it is able to try it with all five batches."
   ]
  },
  {
   "cell_type": "code",
   "execution_count": 33,
   "metadata": {
    "collapsed": false,
    "deletable": true,
    "editable": true
   },
   "outputs": [
    {
     "name": "stdout",
     "output_type": "stream",
     "text": [
      "Training...\n",
      "Epoch  1, CIFAR-10 Batch 1:  Loss: 2.264411687850952\n",
      "Accuracy: 0.17520000040531158\n",
      "Epoch  1, CIFAR-10 Batch 2:  Loss: 1.9326225519180298\n",
      "Accuracy: 0.2173999845981598\n",
      "Epoch  1, CIFAR-10 Batch 3:  Loss: 1.7253888845443726\n",
      "Accuracy: 0.2825999855995178\n",
      "Epoch  1, CIFAR-10 Batch 4:  Loss: 1.7438682317733765\n",
      "Accuracy: 0.32919999957084656\n",
      "Epoch  1, CIFAR-10 Batch 5:  Loss: 1.6822879314422607\n",
      "Accuracy: 0.33079999685287476\n",
      "Epoch  2, CIFAR-10 Batch 1:  Loss: 1.86350679397583\n",
      "Accuracy: 0.3789999783039093\n",
      "Epoch  2, CIFAR-10 Batch 2:  Loss: 1.7456343173980713\n",
      "Accuracy: 0.3999999761581421\n",
      "Epoch  2, CIFAR-10 Batch 3:  Loss: 1.4464119672775269\n",
      "Accuracy: 0.40779995918273926\n",
      "Epoch  2, CIFAR-10 Batch 4:  Loss: 1.628647804260254\n",
      "Accuracy: 0.44579997658729553\n",
      "Epoch  2, CIFAR-10 Batch 5:  Loss: 1.331862211227417\n",
      "Accuracy: 0.4527999758720398\n",
      "Epoch  3, CIFAR-10 Batch 1:  Loss: 1.446594476699829\n",
      "Accuracy: 0.4737999737262726\n",
      "Epoch  3, CIFAR-10 Batch 2:  Loss: 1.3071966171264648\n",
      "Accuracy: 0.4790000021457672\n",
      "Epoch  3, CIFAR-10 Batch 3:  Loss: 1.1790602207183838\n",
      "Accuracy: 0.48259997367858887\n",
      "Epoch  3, CIFAR-10 Batch 4:  Loss: 1.2577201128005981\n",
      "Accuracy: 0.5203999280929565\n",
      "Epoch  3, CIFAR-10 Batch 5:  Loss: 1.2328016757965088\n",
      "Accuracy: 0.5259999632835388\n",
      "Epoch  4, CIFAR-10 Batch 1:  Loss: 1.3601436614990234\n",
      "Accuracy: 0.5139999389648438\n",
      "Epoch  4, CIFAR-10 Batch 2:  Loss: 1.113057255744934\n",
      "Accuracy: 0.5139999389648438\n",
      "Epoch  4, CIFAR-10 Batch 3:  Loss: 0.9466115832328796\n",
      "Accuracy: 0.5575999021530151\n",
      "Epoch  4, CIFAR-10 Batch 4:  Loss: 1.2937391996383667\n",
      "Accuracy: 0.5681999325752258\n",
      "Epoch  4, CIFAR-10 Batch 5:  Loss: 0.9588524103164673\n",
      "Accuracy: 0.5555998682975769\n",
      "Epoch  5, CIFAR-10 Batch 1:  Loss: 1.0674635171890259\n",
      "Accuracy: 0.5661998987197876\n",
      "Epoch  5, CIFAR-10 Batch 2:  Loss: 1.109535574913025\n",
      "Accuracy: 0.5655999183654785\n",
      "Epoch  5, CIFAR-10 Batch 3:  Loss: 0.8658328056335449\n",
      "Accuracy: 0.6031998991966248\n",
      "Epoch  5, CIFAR-10 Batch 4:  Loss: 0.9973043203353882\n",
      "Accuracy: 0.5929999351501465\n",
      "Epoch  5, CIFAR-10 Batch 5:  Loss: 0.9317617416381836\n",
      "Accuracy: 0.590199887752533\n",
      "Epoch  6, CIFAR-10 Batch 1:  Loss: 0.9369643926620483\n",
      "Accuracy: 0.6029999256134033\n",
      "Epoch  6, CIFAR-10 Batch 2:  Loss: 0.8737984895706177\n",
      "Accuracy: 0.603399932384491\n",
      "Epoch  6, CIFAR-10 Batch 3:  Loss: 0.7194176912307739\n",
      "Accuracy: 0.6243999004364014\n",
      "Epoch  6, CIFAR-10 Batch 4:  Loss: 0.9298838376998901\n",
      "Accuracy: 0.6193999648094177\n",
      "Epoch  6, CIFAR-10 Batch 5:  Loss: 0.7682872414588928\n",
      "Accuracy: 0.6149998903274536\n",
      "Epoch  7, CIFAR-10 Batch 1:  Loss: 0.9572817087173462\n",
      "Accuracy: 0.6327999234199524\n",
      "Epoch  7, CIFAR-10 Batch 2:  Loss: 0.8503409028053284\n",
      "Accuracy: 0.6261998414993286\n",
      "Epoch  7, CIFAR-10 Batch 3:  Loss: 0.6388862729072571\n",
      "Accuracy: 0.6315999031066895\n",
      "Epoch  7, CIFAR-10 Batch 4:  Loss: 0.7877486944198608\n",
      "Accuracy: 0.6449999213218689\n",
      "Epoch  7, CIFAR-10 Batch 5:  Loss: 0.7076799273490906\n",
      "Accuracy: 0.6275998950004578\n",
      "Epoch  8, CIFAR-10 Batch 1:  Loss: 0.6853796243667603\n",
      "Accuracy: 0.6597998738288879\n",
      "Epoch  8, CIFAR-10 Batch 2:  Loss: 0.7451421022415161\n",
      "Accuracy: 0.6329998970031738\n",
      "Epoch  8, CIFAR-10 Batch 3:  Loss: 0.5566177368164062\n",
      "Accuracy: 0.6397998929023743\n",
      "Epoch  8, CIFAR-10 Batch 4:  Loss: 0.696537971496582\n",
      "Accuracy: 0.6593998670578003\n",
      "Epoch  8, CIFAR-10 Batch 5:  Loss: 0.6684386730194092\n",
      "Accuracy: 0.6327998638153076\n",
      "Epoch  9, CIFAR-10 Batch 1:  Loss: 0.6735227704048157\n",
      "Accuracy: 0.6391999125480652\n",
      "Epoch  9, CIFAR-10 Batch 2:  Loss: 0.6352990865707397\n",
      "Accuracy: 0.6581999063491821\n",
      "Epoch  9, CIFAR-10 Batch 3:  Loss: 0.5072144269943237\n",
      "Accuracy: 0.6613998413085938\n",
      "Epoch  9, CIFAR-10 Batch 4:  Loss: 0.6044937372207642\n",
      "Accuracy: 0.6683998703956604\n",
      "Epoch  9, CIFAR-10 Batch 5:  Loss: 0.5098978281021118\n",
      "Accuracy: 0.6605998873710632\n",
      "Epoch 10, CIFAR-10 Batch 1:  Loss: 0.6377344727516174\n",
      "Accuracy: 0.6549999117851257\n",
      "Epoch 10, CIFAR-10 Batch 2:  Loss: 0.5369827747344971\n",
      "Accuracy: 0.6655998826026917\n",
      "Epoch 10, CIFAR-10 Batch 3:  Loss: 0.32599499821662903\n",
      "Accuracy: 0.6703999042510986\n",
      "Epoch 10, CIFAR-10 Batch 4:  Loss: 0.558059811592102\n",
      "Accuracy: 0.6671998500823975\n",
      "Epoch 10, CIFAR-10 Batch 5:  Loss: 0.48840343952178955\n",
      "Accuracy: 0.674799919128418\n",
      "Epoch 11, CIFAR-10 Batch 1:  Loss: 0.5127679109573364\n",
      "Accuracy: 0.6733998656272888\n",
      "Epoch 11, CIFAR-10 Batch 2:  Loss: 0.49658963084220886\n",
      "Accuracy: 0.6833998560905457\n",
      "Epoch 11, CIFAR-10 Batch 3:  Loss: 0.4276183843612671\n",
      "Accuracy: 0.668799877166748\n",
      "Epoch 11, CIFAR-10 Batch 4:  Loss: 0.5297163724899292\n",
      "Accuracy: 0.6937999129295349\n",
      "Epoch 11, CIFAR-10 Batch 5:  Loss: 0.4446067810058594\n",
      "Accuracy: 0.6747998595237732\n",
      "Epoch 12, CIFAR-10 Batch 1:  Loss: 0.5494431257247925\n",
      "Accuracy: 0.6817998290061951\n",
      "Epoch 12, CIFAR-10 Batch 2:  Loss: 0.4621275067329407\n",
      "Accuracy: 0.6947999000549316\n",
      "Epoch 12, CIFAR-10 Batch 3:  Loss: 0.37538135051727295\n",
      "Accuracy: 0.6803998947143555\n",
      "Epoch 12, CIFAR-10 Batch 4:  Loss: 0.4330822825431824\n",
      "Accuracy: 0.6869999170303345\n",
      "Epoch 12, CIFAR-10 Batch 5:  Loss: 0.38170740008354187\n",
      "Accuracy: 0.696199893951416\n",
      "Epoch 13, CIFAR-10 Batch 1:  Loss: 0.45280832052230835\n",
      "Accuracy: 0.6723999381065369\n",
      "Epoch 13, CIFAR-10 Batch 2:  Loss: 0.5262308716773987\n",
      "Accuracy: 0.6975998282432556\n",
      "Epoch 13, CIFAR-10 Batch 3:  Loss: 0.32741159200668335\n",
      "Accuracy: 0.6963999271392822\n",
      "Epoch 13, CIFAR-10 Batch 4:  Loss: 0.49804770946502686\n",
      "Accuracy: 0.7007998824119568\n",
      "Epoch 13, CIFAR-10 Batch 5:  Loss: 0.3254720866680145\n",
      "Accuracy: 0.707399845123291\n",
      "Epoch 14, CIFAR-10 Batch 1:  Loss: 0.4398309290409088\n",
      "Accuracy: 0.6589999198913574\n",
      "Epoch 14, CIFAR-10 Batch 2:  Loss: 0.3168450593948364\n",
      "Accuracy: 0.7155998349189758\n",
      "Epoch 14, CIFAR-10 Batch 3:  Loss: 0.23220829665660858\n",
      "Accuracy: 0.6881998181343079\n",
      "Epoch 14, CIFAR-10 Batch 4:  Loss: 0.32950958609580994\n",
      "Accuracy: 0.7033998370170593\n",
      "Epoch 14, CIFAR-10 Batch 5:  Loss: 0.40909796953201294\n",
      "Accuracy: 0.6999998092651367\n",
      "Epoch 15, CIFAR-10 Batch 1:  Loss: 0.37308600544929504\n",
      "Accuracy: 0.7041999101638794\n",
      "Epoch 15, CIFAR-10 Batch 2:  Loss: 0.309368759393692\n",
      "Accuracy: 0.718799889087677\n",
      "Epoch 15, CIFAR-10 Batch 3:  Loss: 0.30291226506233215\n",
      "Accuracy: 0.7059998512268066\n",
      "Epoch 15, CIFAR-10 Batch 4:  Loss: 0.3370237946510315\n",
      "Accuracy: 0.7005998492240906\n",
      "Epoch 15, CIFAR-10 Batch 5:  Loss: 0.2748014032840729\n",
      "Accuracy: 0.7111998200416565\n",
      "Epoch 16, CIFAR-10 Batch 1:  Loss: 0.3241310715675354\n",
      "Accuracy: 0.7087998390197754\n",
      "Epoch 16, CIFAR-10 Batch 2:  Loss: 0.3420538604259491\n",
      "Accuracy: 0.7203998565673828\n",
      "Epoch 16, CIFAR-10 Batch 3:  Loss: 0.27780961990356445\n",
      "Accuracy: 0.7109997868537903\n",
      "Epoch 16, CIFAR-10 Batch 4:  Loss: 0.3506724238395691\n",
      "Accuracy: 0.719799816608429\n",
      "Epoch 16, CIFAR-10 Batch 5:  Loss: 0.23354586958885193\n",
      "Accuracy: 0.7123998403549194\n",
      "Epoch 17, CIFAR-10 Batch 1:  Loss: 0.3350600600242615\n",
      "Accuracy: 0.7115998864173889\n",
      "Epoch 17, CIFAR-10 Batch 2:  Loss: 0.27128928899765015\n",
      "Accuracy: 0.7331998348236084\n",
      "Epoch 17, CIFAR-10 Batch 3:  Loss: 0.23042762279510498\n",
      "Accuracy: 0.6973998546600342\n",
      "Epoch 17, CIFAR-10 Batch 4:  Loss: 0.28016141057014465\n",
      "Accuracy: 0.7119998931884766\n",
      "Epoch 17, CIFAR-10 Batch 5:  Loss: 0.2516363263130188\n",
      "Accuracy: 0.7215998768806458\n",
      "Epoch 18, CIFAR-10 Batch 1:  Loss: 0.32669150829315186\n",
      "Accuracy: 0.7079998254776001\n",
      "Epoch 18, CIFAR-10 Batch 2:  Loss: 0.2805367708206177\n",
      "Accuracy: 0.7247998714447021\n",
      "Epoch 18, CIFAR-10 Batch 3:  Loss: 0.1962282508611679\n",
      "Accuracy: 0.7229998707771301\n",
      "Epoch 18, CIFAR-10 Batch 4:  Loss: 0.2763898968696594\n",
      "Accuracy: 0.716999888420105\n",
      "Epoch 18, CIFAR-10 Batch 5:  Loss: 0.2926025688648224\n",
      "Accuracy: 0.7145999073982239\n",
      "Epoch 19, CIFAR-10 Batch 1:  Loss: 0.31013965606689453\n",
      "Accuracy: 0.7313998341560364\n",
      "Epoch 19, CIFAR-10 Batch 2:  Loss: 0.20862305164337158\n",
      "Accuracy: 0.7241998910903931\n",
      "Epoch 19, CIFAR-10 Batch 3:  Loss: 0.18293024599552155\n",
      "Accuracy: 0.7255998849868774\n",
      "Epoch 19, CIFAR-10 Batch 4:  Loss: 0.23325040936470032\n",
      "Accuracy: 0.7257998585700989\n",
      "Epoch 19, CIFAR-10 Batch 5:  Loss: 0.1635807752609253\n",
      "Accuracy: 0.729999840259552\n",
      "Epoch 20, CIFAR-10 Batch 1:  Loss: 0.19636334478855133\n",
      "Accuracy: 0.7367998361587524\n",
      "Epoch 20, CIFAR-10 Batch 2:  Loss: 0.17939577996730804\n",
      "Accuracy: 0.7279998064041138\n",
      "Epoch 20, CIFAR-10 Batch 3:  Loss: 0.14680127799510956\n",
      "Accuracy: 0.7397999167442322\n",
      "Epoch 20, CIFAR-10 Batch 4:  Loss: 0.21234524250030518\n",
      "Accuracy: 0.7171998023986816\n",
      "Epoch 20, CIFAR-10 Batch 5:  Loss: 0.14260569214820862\n",
      "Accuracy: 0.7389997839927673\n",
      "Epoch 21, CIFAR-10 Batch 1:  Loss: 0.19111214578151703\n",
      "Accuracy: 0.718599796295166\n",
      "Epoch 21, CIFAR-10 Batch 2:  Loss: 0.1480875015258789\n",
      "Accuracy: 0.7345998883247375\n",
      "Epoch 21, CIFAR-10 Batch 3:  Loss: 0.1375187337398529\n",
      "Accuracy: 0.7375998497009277\n",
      "Epoch 21, CIFAR-10 Batch 4:  Loss: 0.23075491189956665\n",
      "Accuracy: 0.720599889755249\n",
      "Epoch 21, CIFAR-10 Batch 5:  Loss: 0.16249233484268188\n",
      "Accuracy: 0.739599883556366\n",
      "Epoch 22, CIFAR-10 Batch 1:  Loss: 0.16963514685630798\n",
      "Accuracy: 0.7325998544692993\n",
      "Epoch 22, CIFAR-10 Batch 2:  Loss: 0.20361772179603577\n",
      "Accuracy: 0.7369997501373291\n",
      "Epoch 22, CIFAR-10 Batch 3:  Loss: 0.10642944276332855\n",
      "Accuracy: 0.7389998435974121\n",
      "Epoch 22, CIFAR-10 Batch 4:  Loss: 0.16414384543895721\n",
      "Accuracy: 0.7265998125076294\n",
      "Epoch 22, CIFAR-10 Batch 5:  Loss: 0.18473565578460693\n",
      "Accuracy: 0.7341998815536499\n",
      "Epoch 23, CIFAR-10 Batch 1:  Loss: 0.23437999188899994\n",
      "Accuracy: 0.7303997874259949\n",
      "Epoch 23, CIFAR-10 Batch 2:  Loss: 0.2535419166088104\n",
      "Accuracy: 0.7181998491287231\n",
      "Epoch 23, CIFAR-10 Batch 3:  Loss: 0.17508253455162048\n",
      "Accuracy: 0.7133998870849609\n",
      "Epoch 23, CIFAR-10 Batch 4:  Loss: 0.20512479543685913\n",
      "Accuracy: 0.723399817943573\n",
      "Epoch 23, CIFAR-10 Batch 5:  Loss: 0.11201208829879761\n",
      "Accuracy: 0.7469998598098755\n",
      "Epoch 24, CIFAR-10 Batch 1:  Loss: 0.1364227831363678\n",
      "Accuracy: 0.7357999086380005\n",
      "Epoch 24, CIFAR-10 Batch 2:  Loss: 0.2200767695903778\n",
      "Accuracy: 0.7295998334884644\n",
      "Epoch 24, CIFAR-10 Batch 3:  Loss: 0.09012019634246826\n",
      "Accuracy: 0.7201998233795166\n",
      "Epoch 24, CIFAR-10 Batch 4:  Loss: 0.1947682946920395\n",
      "Accuracy: 0.7305998206138611\n",
      "Epoch 24, CIFAR-10 Batch 5:  Loss: 0.11049742996692657\n",
      "Accuracy: 0.7519998550415039\n",
      "Epoch 25, CIFAR-10 Batch 1:  Loss: 0.15305836498737335\n",
      "Accuracy: 0.7401998043060303\n",
      "Epoch 25, CIFAR-10 Batch 2:  Loss: 0.15979738533496857\n",
      "Accuracy: 0.7343998551368713\n",
      "Epoch 25, CIFAR-10 Batch 3:  Loss: 0.10306818783283234\n",
      "Accuracy: 0.7261999249458313\n",
      "Epoch 25, CIFAR-10 Batch 4:  Loss: 0.11521575599908829\n",
      "Accuracy: 0.7301998734474182\n",
      "Epoch 25, CIFAR-10 Batch 5:  Loss: 0.08922773599624634\n",
      "Accuracy: 0.7545998692512512\n",
      "Epoch 26, CIFAR-10 Batch 1:  Loss: 0.15528038144111633\n",
      "Accuracy: 0.7315998673439026\n",
      "Epoch 26, CIFAR-10 Batch 2:  Loss: 0.12626060843467712\n",
      "Accuracy: 0.7379998564720154\n",
      "Epoch 26, CIFAR-10 Batch 3:  Loss: 0.11297103017568588\n",
      "Accuracy: 0.7227998375892639\n",
      "Epoch 26, CIFAR-10 Batch 4:  Loss: 0.1222027987241745\n",
      "Accuracy: 0.7309998273849487\n",
      "Epoch 26, CIFAR-10 Batch 5:  Loss: 0.10404783487319946\n",
      "Accuracy: 0.7419998645782471\n",
      "Epoch 27, CIFAR-10 Batch 1:  Loss: 0.12095701694488525\n",
      "Accuracy: 0.7323998808860779\n",
      "Epoch 27, CIFAR-10 Batch 2:  Loss: 0.1297130435705185\n",
      "Accuracy: 0.7361997961997986\n",
      "Epoch 27, CIFAR-10 Batch 3:  Loss: 0.052784912288188934\n",
      "Accuracy: 0.734799861907959\n",
      "Epoch 27, CIFAR-10 Batch 4:  Loss: 0.16325484216213226\n",
      "Accuracy: 0.732799768447876\n",
      "Epoch 27, CIFAR-10 Batch 5:  Loss: 0.08659054338932037\n",
      "Accuracy: 0.7533998489379883\n",
      "Epoch 28, CIFAR-10 Batch 1:  Loss: 0.11707938462495804\n",
      "Accuracy: 0.7435998320579529\n",
      "Epoch 28, CIFAR-10 Batch 2:  Loss: 0.09613384306430817\n",
      "Accuracy: 0.7309998273849487\n",
      "Epoch 28, CIFAR-10 Batch 3:  Loss: 0.06355161964893341\n",
      "Accuracy: 0.7395998239517212\n",
      "Epoch 28, CIFAR-10 Batch 4:  Loss: 0.17239688336849213\n",
      "Accuracy: 0.7425997853279114\n",
      "Epoch 28, CIFAR-10 Batch 5:  Loss: 0.09289290010929108\n",
      "Accuracy: 0.7473998069763184\n",
      "Epoch 29, CIFAR-10 Batch 1:  Loss: 0.10041871666908264\n",
      "Accuracy: 0.744399905204773\n",
      "Epoch 29, CIFAR-10 Batch 2:  Loss: 0.16175559163093567\n",
      "Accuracy: 0.7321999073028564\n",
      "Epoch 29, CIFAR-10 Batch 3:  Loss: 0.0769614577293396\n",
      "Accuracy: 0.7289997935295105\n",
      "Epoch 29, CIFAR-10 Batch 4:  Loss: 0.1759309470653534\n",
      "Accuracy: 0.7469998598098755\n",
      "Epoch 29, CIFAR-10 Batch 5:  Loss: 0.061143457889556885\n",
      "Accuracy: 0.7455998659133911\n",
      "Epoch 30, CIFAR-10 Batch 1:  Loss: 0.16649319231510162\n",
      "Accuracy: 0.7425998449325562\n",
      "Epoch 30, CIFAR-10 Batch 2:  Loss: 0.09521088004112244\n",
      "Accuracy: 0.7363998293876648\n",
      "Epoch 30, CIFAR-10 Batch 3:  Loss: 0.0723395124077797\n",
      "Accuracy: 0.7493998408317566\n",
      "Epoch 30, CIFAR-10 Batch 4:  Loss: 0.08775649964809418\n",
      "Accuracy: 0.7449998259544373\n",
      "Epoch 30, CIFAR-10 Batch 5:  Loss: 0.0445452518761158\n",
      "Accuracy: 0.7619998455047607\n"
     ]
    }
   ],
   "source": [
    "save_model_path = './image_classification'\n",
    "\n",
    "print('Training...')\n",
    "with tf.Session() as sess:\n",
    "    # Initializing the variables\n",
    "    sess.run(tf.global_variables_initializer())\n",
    "    \n",
    "    # Training cycle\n",
    "    for epoch in range(epochs):\n",
    "        # Loop over all batches\n",
    "        n_batches = 5\n",
    "        for batch_i in range(1, n_batches + 1):\n",
    "            for batch_features, batch_labels in helper.load_preprocess_training_batch(batch_i, batch_size):\n",
    "                train_neural_network(sess, optimizer, keep_probability, batch_features, batch_labels)\n",
    "            print('Epoch {:>2}, CIFAR-10 Batch {}:  '.format(epoch + 1, batch_i), end='')\n",
    "            print_stats(sess, batch_features, batch_labels, cost, accuracy)\n",
    "            \n",
    "    # Save Model\n",
    "    saver = tf.train.Saver()\n",
    "    save_path = saver.save(sess, save_model_path)"
   ]
  },
  {
   "cell_type": "markdown",
   "metadata": {
    "deletable": true,
    "editable": true
   },
   "source": [
    "# Checkpoint\n",
    "The model has been saved to disk.\n",
    "## Test Model\n",
    "It needs to test the model against the test dataset. "
   ]
  },
  {
   "cell_type": "code",
   "execution_count": 34,
   "metadata": {
    "collapsed": false,
    "deletable": true,
    "editable": true
   },
   "outputs": [
    {
     "name": "stdout",
     "output_type": "stream",
     "text": [
      "Testing Accuracy: 0.75400390625\n",
      "\n"
     ]
    },
    {
     "data": {
      "image/png": "[encoded data removed]",
      "text/plain": [
       "<matplotlib.figure.Figure at 0x7fadf86f1b38>"
      ]
     },
     "metadata": {
      "image/png": {
       "height": 319,
       "width": 355
      }
     },
     "output_type": "display_data"
    }
   ],
   "source": [
    "%matplotlib inline\n",
    "%config InlineBackend.figure_format = 'retina'\n",
    "\n",
    "import tensorflow as tf\n",
    "import pickle\n",
    "import helper\n",
    "import random\n",
    "\n",
    "# Set batch size if not already set\n",
    "try:\n",
    "    if batch_size:\n",
    "        pass\n",
    "except NameError:\n",
    "    batch_size = 64\n",
    "\n",
    "save_model_path = './image_classification'\n",
    "n_samples = 4\n",
    "top_n_predictions = 3\n",
    "\n",
    "def test_model():\n",
    "    \"\"\"\n",
    "    Test the saved model against the test dataset\n",
    "    \"\"\"\n",
    "    test_features, test_labels = pickle.load(open('preprocess_training.p', mode='rb'))\n",
    "    loaded_graph = tf.Graph()\n",
    "\n",
    "    with tf.Session(graph=loaded_graph) as sess:\n",
    "        # Load model\n",
    "        loader = tf.train.import_meta_graph(save_model_path + '.meta')\n",
    "        loader.restore(sess, save_model_path)\n",
    "\n",
    "        # Get Tensors from loaded model\n",
    "        loaded_x = loaded_graph.get_tensor_by_name('x:0')\n",
    "        loaded_y = loaded_graph.get_tensor_by_name('y:0')\n",
    "        loaded_keep_prob = loaded_graph.get_tensor_by_name('keep_prob:0')\n",
    "        loaded_logits = loaded_graph.get_tensor_by_name('logits:0')\n",
    "        loaded_acc = loaded_graph.get_tensor_by_name('accuracy:0')\n",
    "        \n",
    "        # Get accuracy in batches for memory limitations\n",
    "        test_batch_acc_total = 0\n",
    "        test_batch_count = 0\n",
    "        \n",
    "        for train_feature_batch, train_label_batch in helper.batch_features_labels(test_features, test_labels, batch_size):\n",
    "            test_batch_acc_total += sess.run(\n",
    "                loaded_acc,\n",
    "                feed_dict={loaded_x: train_feature_batch, loaded_y: train_label_batch, loaded_keep_prob: 1.0})\n",
    "            test_batch_count += 1\n",
    "\n",
    "        print('Testing Accuracy: {}\\n'.format(test_batch_acc_total/test_batch_count))\n",
    "\n",
    "        # Print Random Samples\n",
    "        random_test_features, random_test_labels = tuple(zip(*random.sample(list(zip(test_features, test_labels)), n_samples)))\n",
    "        random_test_predictions = sess.run(\n",
    "            tf.nn.top_k(tf.nn.softmax(loaded_logits), top_n_predictions),\n",
    "            feed_dict={loaded_x: random_test_features, loaded_y: random_test_labels, loaded_keep_prob: 1.0})\n",
    "        helper.display_image_predictions(random_test_features, random_test_labels, random_test_predictions)\n",
    "\n",
    "\n",
    "test_model()"
   ]
  },
  {
   "cell_type": "markdown",
   "metadata": {
    "deletable": true,
    "editable": true
   },
   "source": [
    "## Conclusion\n",
    "Although I use convolution neural network (CNN), I can't get an accuracy over 80%. Of course, this is not bad for a simple CNN. However, I have to apply advanced CNN, VGG16, Xception, Googlenet, ResNet or something if I want to get a higher accuracy.haven't taught you all there is to know about neural networks. We still need to cover a few more techniques."
   ]
  }
 ],
 "metadata": {
  "kernelspec": {
   "display_name": "Python [default]",
   "language": "python",
   "name": "python3"
  },
  "language_info": {
   "codemirror_mode": {
    "name": "ipython",
    "version": 3
   },
   "file_extension": ".py",
   "mimetype": "text/x-python",
   "name": "python",
   "nbconvert_exporter": "python",
   "pygments_lexer": "ipython3",
   "version": "3.5.2"
  }
 },
 "nbformat": 4,
 "nbformat_minor": 0
}
